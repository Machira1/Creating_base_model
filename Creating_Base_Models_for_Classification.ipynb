{
  "cells": [
    {
      "cell_type": "code",
      "execution_count": 1,
      "metadata": {
        "id": "wjzs4bJrACHL",
        "colab": {
          "base_uri": "https://localhost:8080/"
        },
        "outputId": "ead4d109-0845-46fb-e403-62b66a70857e"
      },
      "outputs": [
        {
          "output_type": "stream",
          "name": "stdout",
          "text": [
            "Mounted at /content/drive\n"
          ]
        }
      ],
      "source": [
        "# Load the Drive helper and mount\n",
        "from google.colab import drive\n",
        "\n",
        "# This will prompt for authorization.\n",
        "drive.mount('/content/drive', force_remount=True)"
      ]
    },
    {
      "cell_type": "code",
      "execution_count": 2,
      "metadata": {
        "id": "U8OatNmZDJ7U",
        "colab": {
          "base_uri": "https://localhost:8080/"
        },
        "outputId": "c6ec5639-c33f-4f04-e5c2-ce2be8216684"
      },
      "outputs": [
        {
          "output_type": "stream",
          "name": "stdout",
          "text": [
            "Employee_Attrition_predition_using_SVM.ipynb  New_Attrition_data.csv\n",
            "naive_bayes_model.ipynb                       TTSS_Regression.ipynb\n",
            "New_Attrition_Data_Cleaning.ipynb\n"
          ]
        }
      ],
      "source": [
        "ls \"/content/drive/My Drive/GDL - Cohort 18 Collaboration Drive/Project Files/C18 - 38 Supervised attrition models/\""
      ]
    },
    {
      "cell_type": "code",
      "execution_count": 3,
      "metadata": {
        "id": "n17c7aY0DouB"
      },
      "outputs": [],
      "source": [
        "import pandas as pd\n",
        "import numpy as np\n",
        "import matplotlib.pyplot as plt\n",
        "from sklearn.ensemble import RandomForestClassifier\n",
        "from sklearn.preprocessing import LabelEncoder\n",
        "from sklearn.metrics import accuracy_score, roc_auc_score\n",
        "from sklearn.model_selection import train_test_split\n",
        "from imblearn.over_sampling import RandomOverSampler\n",
        "from tensorflow.keras.layers import LSTM, Dense, Dropout\n",
        "from tensorflow.keras.models import Sequential"
      ]
    },
    {
      "cell_type": "code",
      "execution_count": 4,
      "metadata": {
        "id": "qgBmrzw1AItA",
        "colab": {
          "base_uri": "https://localhost:8080/",
          "height": 478
        },
        "outputId": "1a2d9f70-273d-4b22-9e66-1884ce91e276"
      },
      "outputs": [
        {
          "output_type": "stream",
          "name": "stderr",
          "text": [
            "/usr/local/lib/python3.8/dist-packages/IPython/core/interactiveshell.py:3326: DtypeWarning: Columns (3,4,5,10) have mixed types.Specify dtype option on import or set low_memory=False.\n",
            "  exec(code_obj, self.user_global_ns, self.user_ns)\n"
          ]
        },
        {
          "output_type": "execute_result",
          "data": {
            "text/plain": [
              "  ActivityDate     ID ActivityCategoryName     StartTimeInLocal  \\\n",
              "0   2021-08-05  14906                Other  2021-08-05 08:57:48   \n",
              "1   2021-07-20  14906                Other  2021-07-20 15:10:48   \n",
              "2   2021-09-01  14975                Other  2021-09-01 10:40:50   \n",
              "3   2022-01-28  14932                Other  2022-01-28 10:00:11   \n",
              "4   2021-11-30  14975                Other  2021-11-30 10:26:22   \n",
              "\n",
              "        EndTimeInLocal                                      FileOrUrlName  \\\n",
              "0  2021-08-05 08:58:03  https://passportprd.tenent39-dns.com/ecomes.zw...   \n",
              "1  2021-07-20 15:11:03                                    microsoft teams   \n",
              "2  2021-09-01 10:41:05                                              excel   \n",
              "3  2022-01-28 10:00:26                                    microsoft teams   \n",
              "4  2021-11-30 10:26:52                                     message (html)   \n",
              "\n",
              "   TimeSpent  isCore  ActivityTime  Description Effective Date  \\\n",
              "0       0.25       1      0.004167            0     2021-08-17   \n",
              "1       0.25       1      0.004167            0     2021-08-17   \n",
              "2       0.25       1      0.004167            0     2021-12-03   \n",
              "3       0.25       1      0.004167            0     2022-08-05   \n",
              "4       0.50       0      0.008333            0     2021-12-03   \n",
              "\n",
              "                          JobFamilyName DepartmentName  TeamName  DoW  \\\n",
              "0  Domestic Mandatory Corporate Actions           TTSS       909    3   \n",
              "1  Domestic Mandatory Corporate Actions           TTSS       909    1   \n",
              "2               Domestic Trade Services           TTSS      1168    2   \n",
              "3                     Income - DTC Debt           TTSS      1177    4   \n",
              "4               Domestic Trade Services           TTSS      1168    1   \n",
              "\n",
              "   Days to termination  \n",
              "0                   12  \n",
              "1                   28  \n",
              "2                   93  \n",
              "3                  189  \n",
              "4                    3  "
            ],
            "text/html": [
              "\n",
              "  <div id=\"df-671059a0-5f52-4115-887a-f025fa552685\">\n",
              "    <div class=\"colab-df-container\">\n",
              "      <div>\n",
              "<style scoped>\n",
              "    .dataframe tbody tr th:only-of-type {\n",
              "        vertical-align: middle;\n",
              "    }\n",
              "\n",
              "    .dataframe tbody tr th {\n",
              "        vertical-align: top;\n",
              "    }\n",
              "\n",
              "    .dataframe thead th {\n",
              "        text-align: right;\n",
              "    }\n",
              "</style>\n",
              "<table border=\"1\" class=\"dataframe\">\n",
              "  <thead>\n",
              "    <tr style=\"text-align: right;\">\n",
              "      <th></th>\n",
              "      <th>ActivityDate</th>\n",
              "      <th>ID</th>\n",
              "      <th>ActivityCategoryName</th>\n",
              "      <th>StartTimeInLocal</th>\n",
              "      <th>EndTimeInLocal</th>\n",
              "      <th>FileOrUrlName</th>\n",
              "      <th>TimeSpent</th>\n",
              "      <th>isCore</th>\n",
              "      <th>ActivityTime</th>\n",
              "      <th>Description</th>\n",
              "      <th>Effective Date</th>\n",
              "      <th>JobFamilyName</th>\n",
              "      <th>DepartmentName</th>\n",
              "      <th>TeamName</th>\n",
              "      <th>DoW</th>\n",
              "      <th>Days to termination</th>\n",
              "    </tr>\n",
              "  </thead>\n",
              "  <tbody>\n",
              "    <tr>\n",
              "      <th>0</th>\n",
              "      <td>2021-08-05</td>\n",
              "      <td>14906</td>\n",
              "      <td>Other</td>\n",
              "      <td>2021-08-05 08:57:48</td>\n",
              "      <td>2021-08-05 08:58:03</td>\n",
              "      <td>https://passportprd.tenent39-dns.com/ecomes.zw...</td>\n",
              "      <td>0.25</td>\n",
              "      <td>1</td>\n",
              "      <td>0.004167</td>\n",
              "      <td>0</td>\n",
              "      <td>2021-08-17</td>\n",
              "      <td>Domestic Mandatory Corporate Actions</td>\n",
              "      <td>TTSS</td>\n",
              "      <td>909</td>\n",
              "      <td>3</td>\n",
              "      <td>12</td>\n",
              "    </tr>\n",
              "    <tr>\n",
              "      <th>1</th>\n",
              "      <td>2021-07-20</td>\n",
              "      <td>14906</td>\n",
              "      <td>Other</td>\n",
              "      <td>2021-07-20 15:10:48</td>\n",
              "      <td>2021-07-20 15:11:03</td>\n",
              "      <td>microsoft teams</td>\n",
              "      <td>0.25</td>\n",
              "      <td>1</td>\n",
              "      <td>0.004167</td>\n",
              "      <td>0</td>\n",
              "      <td>2021-08-17</td>\n",
              "      <td>Domestic Mandatory Corporate Actions</td>\n",
              "      <td>TTSS</td>\n",
              "      <td>909</td>\n",
              "      <td>1</td>\n",
              "      <td>28</td>\n",
              "    </tr>\n",
              "    <tr>\n",
              "      <th>2</th>\n",
              "      <td>2021-09-01</td>\n",
              "      <td>14975</td>\n",
              "      <td>Other</td>\n",
              "      <td>2021-09-01 10:40:50</td>\n",
              "      <td>2021-09-01 10:41:05</td>\n",
              "      <td>excel</td>\n",
              "      <td>0.25</td>\n",
              "      <td>1</td>\n",
              "      <td>0.004167</td>\n",
              "      <td>0</td>\n",
              "      <td>2021-12-03</td>\n",
              "      <td>Domestic Trade Services</td>\n",
              "      <td>TTSS</td>\n",
              "      <td>1168</td>\n",
              "      <td>2</td>\n",
              "      <td>93</td>\n",
              "    </tr>\n",
              "    <tr>\n",
              "      <th>3</th>\n",
              "      <td>2022-01-28</td>\n",
              "      <td>14932</td>\n",
              "      <td>Other</td>\n",
              "      <td>2022-01-28 10:00:11</td>\n",
              "      <td>2022-01-28 10:00:26</td>\n",
              "      <td>microsoft teams</td>\n",
              "      <td>0.25</td>\n",
              "      <td>1</td>\n",
              "      <td>0.004167</td>\n",
              "      <td>0</td>\n",
              "      <td>2022-08-05</td>\n",
              "      <td>Income - DTC Debt</td>\n",
              "      <td>TTSS</td>\n",
              "      <td>1177</td>\n",
              "      <td>4</td>\n",
              "      <td>189</td>\n",
              "    </tr>\n",
              "    <tr>\n",
              "      <th>4</th>\n",
              "      <td>2021-11-30</td>\n",
              "      <td>14975</td>\n",
              "      <td>Other</td>\n",
              "      <td>2021-11-30 10:26:22</td>\n",
              "      <td>2021-11-30 10:26:52</td>\n",
              "      <td>message (html)</td>\n",
              "      <td>0.50</td>\n",
              "      <td>0</td>\n",
              "      <td>0.008333</td>\n",
              "      <td>0</td>\n",
              "      <td>2021-12-03</td>\n",
              "      <td>Domestic Trade Services</td>\n",
              "      <td>TTSS</td>\n",
              "      <td>1168</td>\n",
              "      <td>1</td>\n",
              "      <td>3</td>\n",
              "    </tr>\n",
              "  </tbody>\n",
              "</table>\n",
              "</div>\n",
              "      <button class=\"colab-df-convert\" onclick=\"convertToInteractive('df-671059a0-5f52-4115-887a-f025fa552685')\"\n",
              "              title=\"Convert this dataframe to an interactive table.\"\n",
              "              style=\"display:none;\">\n",
              "        \n",
              "  <svg xmlns=\"http://www.w3.org/2000/svg\" height=\"24px\"viewBox=\"0 0 24 24\"\n",
              "       width=\"24px\">\n",
              "    <path d=\"M0 0h24v24H0V0z\" fill=\"none\"/>\n",
              "    <path d=\"M18.56 5.44l.94 2.06.94-2.06 2.06-.94-2.06-.94-.94-2.06-.94 2.06-2.06.94zm-11 1L8.5 8.5l.94-2.06 2.06-.94-2.06-.94L8.5 2.5l-.94 2.06-2.06.94zm10 10l.94 2.06.94-2.06 2.06-.94-2.06-.94-.94-2.06-.94 2.06-2.06.94z\"/><path d=\"M17.41 7.96l-1.37-1.37c-.4-.4-.92-.59-1.43-.59-.52 0-1.04.2-1.43.59L10.3 9.45l-7.72 7.72c-.78.78-.78 2.05 0 2.83L4 21.41c.39.39.9.59 1.41.59.51 0 1.02-.2 1.41-.59l7.78-7.78 2.81-2.81c.8-.78.8-2.07 0-2.86zM5.41 20L4 18.59l7.72-7.72 1.47 1.35L5.41 20z\"/>\n",
              "  </svg>\n",
              "      </button>\n",
              "      \n",
              "  <style>\n",
              "    .colab-df-container {\n",
              "      display:flex;\n",
              "      flex-wrap:wrap;\n",
              "      gap: 12px;\n",
              "    }\n",
              "\n",
              "    .colab-df-convert {\n",
              "      background-color: #E8F0FE;\n",
              "      border: none;\n",
              "      border-radius: 50%;\n",
              "      cursor: pointer;\n",
              "      display: none;\n",
              "      fill: #1967D2;\n",
              "      height: 32px;\n",
              "      padding: 0 0 0 0;\n",
              "      width: 32px;\n",
              "    }\n",
              "\n",
              "    .colab-df-convert:hover {\n",
              "      background-color: #E2EBFA;\n",
              "      box-shadow: 0px 1px 2px rgba(60, 64, 67, 0.3), 0px 1px 3px 1px rgba(60, 64, 67, 0.15);\n",
              "      fill: #174EA6;\n",
              "    }\n",
              "\n",
              "    [theme=dark] .colab-df-convert {\n",
              "      background-color: #3B4455;\n",
              "      fill: #D2E3FC;\n",
              "    }\n",
              "\n",
              "    [theme=dark] .colab-df-convert:hover {\n",
              "      background-color: #434B5C;\n",
              "      box-shadow: 0px 1px 3px 1px rgba(0, 0, 0, 0.15);\n",
              "      filter: drop-shadow(0px 1px 2px rgba(0, 0, 0, 0.3));\n",
              "      fill: #FFFFFF;\n",
              "    }\n",
              "  </style>\n",
              "\n",
              "      <script>\n",
              "        const buttonEl =\n",
              "          document.querySelector('#df-671059a0-5f52-4115-887a-f025fa552685 button.colab-df-convert');\n",
              "        buttonEl.style.display =\n",
              "          google.colab.kernel.accessAllowed ? 'block' : 'none';\n",
              "\n",
              "        async function convertToInteractive(key) {\n",
              "          const element = document.querySelector('#df-671059a0-5f52-4115-887a-f025fa552685');\n",
              "          const dataTable =\n",
              "            await google.colab.kernel.invokeFunction('convertToInteractive',\n",
              "                                                     [key], {});\n",
              "          if (!dataTable) return;\n",
              "\n",
              "          const docLinkHtml = 'Like what you see? Visit the ' +\n",
              "            '<a target=\"_blank\" href=https://colab.research.google.com/notebooks/data_table.ipynb>data table notebook</a>'\n",
              "            + ' to learn more about interactive tables.';\n",
              "          element.innerHTML = '';\n",
              "          dataTable['output_type'] = 'display_data';\n",
              "          await google.colab.output.renderOutput(dataTable, element);\n",
              "          const docLink = document.createElement('div');\n",
              "          docLink.innerHTML = docLinkHtml;\n",
              "          element.appendChild(docLink);\n",
              "        }\n",
              "      </script>\n",
              "    </div>\n",
              "  </div>\n",
              "  "
            ]
          },
          "metadata": {},
          "execution_count": 4
        }
      ],
      "source": [
        "#Loading the TTSS dataset\n",
        "df = pd.read_csv(\"/content/drive/My Drive/GDL - Cohort 18 Collaboration Drive/Project Files/C18 - 38 Supervised attrition models/New_Attrition_data.csv\")\n",
        "df.head()"
      ]
    },
    {
      "cell_type": "code",
      "execution_count": 5,
      "metadata": {
        "id": "L7ks_7UNBQhN",
        "colab": {
          "base_uri": "https://localhost:8080/"
        },
        "outputId": "01441176-905b-4b3a-a328-c0179d97d3c4"
      },
      "outputs": [
        {
          "output_type": "execute_result",
          "data": {
            "text/plain": [
              "Index(['ActivityDate', 'ID', 'ActivityCategoryName', 'StartTimeInLocal',\n",
              "       'EndTimeInLocal', 'FileOrUrlName', 'TimeSpent', 'isCore',\n",
              "       'ActivityTime', 'Description', 'Effective Date', 'JobFamilyName',\n",
              "       'DepartmentName', 'TeamName', 'DoW', 'Days to termination'],\n",
              "      dtype='object')"
            ]
          },
          "metadata": {},
          "execution_count": 5
        }
      ],
      "source": [
        "#Check the columns\n",
        "df.columns"
      ]
    },
    {
      "cell_type": "code",
      "execution_count": 6,
      "metadata": {
        "id": "3wLmysQYEtEr",
        "colab": {
          "base_uri": "https://localhost:8080/"
        },
        "outputId": "d3fca073-2b30-4406-c7a3-24cc692ef8d2"
      },
      "outputs": [
        {
          "output_type": "execute_result",
          "data": {
            "text/plain": [
              "ActivityDate                  0\n",
              "ID                            0\n",
              "ActivityCategoryName          0\n",
              "StartTimeInLocal        3549804\n",
              "EndTimeInLocal          3549804\n",
              "FileOrUrlName           4282907\n",
              "TimeSpent               3549804\n",
              "isCore                        0\n",
              "ActivityTime                  0\n",
              "Description                   0\n",
              "Effective Date          3549804\n",
              "JobFamilyName                 0\n",
              "DepartmentName                0\n",
              "TeamName                      0\n",
              "DoW                           0\n",
              "Days to termination           0\n",
              "dtype: int64"
            ]
          },
          "metadata": {},
          "execution_count": 6
        }
      ],
      "source": [
        "#check for null values\n",
        "df.isna().sum()"
      ]
    },
    {
      "cell_type": "code",
      "execution_count": 7,
      "metadata": {
        "id": "sBmBGJxrE4Hq",
        "colab": {
          "base_uri": "https://localhost:8080/"
        },
        "outputId": "88af0e95-9a9c-4705-e17f-b79cda0ca51b"
      },
      "outputs": [
        {
          "output_type": "stream",
          "name": "stdout",
          "text": [
            "(11526472, 16)\n",
            "ActivityDate             object\n",
            "ID                        int64\n",
            "ActivityCategoryName     object\n",
            "StartTimeInLocal         object\n",
            "EndTimeInLocal           object\n",
            "FileOrUrlName            object\n",
            "TimeSpent               float64\n",
            "isCore                    int64\n",
            "ActivityTime            float64\n",
            "Description               int64\n",
            "Effective Date           object\n",
            "JobFamilyName            object\n",
            "DepartmentName           object\n",
            "TeamName                  int64\n",
            "DoW                       int64\n",
            "Days to termination       int64\n",
            "dtype: object\n"
          ]
        }
      ],
      "source": [
        "#check for the shape and data types\n",
        "print(df.shape)\n",
        "print(df.dtypes)"
      ]
    },
    {
      "cell_type": "code",
      "execution_count": 8,
      "metadata": {
        "id": "-ykj7YxJFGd5",
        "colab": {
          "base_uri": "https://localhost:8080/",
          "height": 476
        },
        "outputId": "51fcda89-881a-4e69-e9c2-ed45c843a8c0"
      },
      "outputs": [
        {
          "output_type": "execute_result",
          "data": {
            "text/plain": [
              "  ActivityDate     ID ActivityCategoryName  isCore  ActivityTime  Description  \\\n",
              "0   2021-08-05  14906                Other       1      0.004167            0   \n",
              "1   2021-07-20  14906                Other       1      0.004167            0   \n",
              "2   2021-09-01  14975                Other       1      0.004167            0   \n",
              "3   2022-01-28  14932                Other       1      0.004167            0   \n",
              "4   2021-11-30  14975                Other       0      0.008333            0   \n",
              "5   2021-08-18  14932                Other       1      0.012500            0   \n",
              "6   2021-11-24  14975                Other       1      0.041667            0   \n",
              "7   2021-08-04  14906                Other       1      0.004167            0   \n",
              "8   2021-10-01  14932                Other       1      0.004167            0   \n",
              "9   2021-08-23  14975                Other       1      0.004167            0   \n",
              "\n",
              "                          JobFamilyName DepartmentName  TeamName  DoW  \\\n",
              "0  Domestic Mandatory Corporate Actions           TTSS       909    3   \n",
              "1  Domestic Mandatory Corporate Actions           TTSS       909    1   \n",
              "2               Domestic Trade Services           TTSS      1168    2   \n",
              "3                     Income - DTC Debt           TTSS      1177    4   \n",
              "4               Domestic Trade Services           TTSS      1168    1   \n",
              "5                     Income - DTC Debt           TTSS      1177    2   \n",
              "6               Domestic Trade Services           TTSS      1168    2   \n",
              "7  Domestic Mandatory Corporate Actions           TTSS       909    2   \n",
              "8                     Income - DTC Debt           TTSS      1177    4   \n",
              "9               Domestic Trade Services           TTSS      1168    0   \n",
              "\n",
              "   Days to termination  \n",
              "0                   12  \n",
              "1                   28  \n",
              "2                   93  \n",
              "3                  189  \n",
              "4                    3  \n",
              "5                  352  \n",
              "6                    9  \n",
              "7                   13  \n",
              "8                  308  \n",
              "9                  102  "
            ],
            "text/html": [
              "\n",
              "  <div id=\"df-b2de5201-3b04-4d86-bc1e-f09384b86fca\">\n",
              "    <div class=\"colab-df-container\">\n",
              "      <div>\n",
              "<style scoped>\n",
              "    .dataframe tbody tr th:only-of-type {\n",
              "        vertical-align: middle;\n",
              "    }\n",
              "\n",
              "    .dataframe tbody tr th {\n",
              "        vertical-align: top;\n",
              "    }\n",
              "\n",
              "    .dataframe thead th {\n",
              "        text-align: right;\n",
              "    }\n",
              "</style>\n",
              "<table border=\"1\" class=\"dataframe\">\n",
              "  <thead>\n",
              "    <tr style=\"text-align: right;\">\n",
              "      <th></th>\n",
              "      <th>ActivityDate</th>\n",
              "      <th>ID</th>\n",
              "      <th>ActivityCategoryName</th>\n",
              "      <th>isCore</th>\n",
              "      <th>ActivityTime</th>\n",
              "      <th>Description</th>\n",
              "      <th>JobFamilyName</th>\n",
              "      <th>DepartmentName</th>\n",
              "      <th>TeamName</th>\n",
              "      <th>DoW</th>\n",
              "      <th>Days to termination</th>\n",
              "    </tr>\n",
              "  </thead>\n",
              "  <tbody>\n",
              "    <tr>\n",
              "      <th>0</th>\n",
              "      <td>2021-08-05</td>\n",
              "      <td>14906</td>\n",
              "      <td>Other</td>\n",
              "      <td>1</td>\n",
              "      <td>0.004167</td>\n",
              "      <td>0</td>\n",
              "      <td>Domestic Mandatory Corporate Actions</td>\n",
              "      <td>TTSS</td>\n",
              "      <td>909</td>\n",
              "      <td>3</td>\n",
              "      <td>12</td>\n",
              "    </tr>\n",
              "    <tr>\n",
              "      <th>1</th>\n",
              "      <td>2021-07-20</td>\n",
              "      <td>14906</td>\n",
              "      <td>Other</td>\n",
              "      <td>1</td>\n",
              "      <td>0.004167</td>\n",
              "      <td>0</td>\n",
              "      <td>Domestic Mandatory Corporate Actions</td>\n",
              "      <td>TTSS</td>\n",
              "      <td>909</td>\n",
              "      <td>1</td>\n",
              "      <td>28</td>\n",
              "    </tr>\n",
              "    <tr>\n",
              "      <th>2</th>\n",
              "      <td>2021-09-01</td>\n",
              "      <td>14975</td>\n",
              "      <td>Other</td>\n",
              "      <td>1</td>\n",
              "      <td>0.004167</td>\n",
              "      <td>0</td>\n",
              "      <td>Domestic Trade Services</td>\n",
              "      <td>TTSS</td>\n",
              "      <td>1168</td>\n",
              "      <td>2</td>\n",
              "      <td>93</td>\n",
              "    </tr>\n",
              "    <tr>\n",
              "      <th>3</th>\n",
              "      <td>2022-01-28</td>\n",
              "      <td>14932</td>\n",
              "      <td>Other</td>\n",
              "      <td>1</td>\n",
              "      <td>0.004167</td>\n",
              "      <td>0</td>\n",
              "      <td>Income - DTC Debt</td>\n",
              "      <td>TTSS</td>\n",
              "      <td>1177</td>\n",
              "      <td>4</td>\n",
              "      <td>189</td>\n",
              "    </tr>\n",
              "    <tr>\n",
              "      <th>4</th>\n",
              "      <td>2021-11-30</td>\n",
              "      <td>14975</td>\n",
              "      <td>Other</td>\n",
              "      <td>0</td>\n",
              "      <td>0.008333</td>\n",
              "      <td>0</td>\n",
              "      <td>Domestic Trade Services</td>\n",
              "      <td>TTSS</td>\n",
              "      <td>1168</td>\n",
              "      <td>1</td>\n",
              "      <td>3</td>\n",
              "    </tr>\n",
              "    <tr>\n",
              "      <th>5</th>\n",
              "      <td>2021-08-18</td>\n",
              "      <td>14932</td>\n",
              "      <td>Other</td>\n",
              "      <td>1</td>\n",
              "      <td>0.012500</td>\n",
              "      <td>0</td>\n",
              "      <td>Income - DTC Debt</td>\n",
              "      <td>TTSS</td>\n",
              "      <td>1177</td>\n",
              "      <td>2</td>\n",
              "      <td>352</td>\n",
              "    </tr>\n",
              "    <tr>\n",
              "      <th>6</th>\n",
              "      <td>2021-11-24</td>\n",
              "      <td>14975</td>\n",
              "      <td>Other</td>\n",
              "      <td>1</td>\n",
              "      <td>0.041667</td>\n",
              "      <td>0</td>\n",
              "      <td>Domestic Trade Services</td>\n",
              "      <td>TTSS</td>\n",
              "      <td>1168</td>\n",
              "      <td>2</td>\n",
              "      <td>9</td>\n",
              "    </tr>\n",
              "    <tr>\n",
              "      <th>7</th>\n",
              "      <td>2021-08-04</td>\n",
              "      <td>14906</td>\n",
              "      <td>Other</td>\n",
              "      <td>1</td>\n",
              "      <td>0.004167</td>\n",
              "      <td>0</td>\n",
              "      <td>Domestic Mandatory Corporate Actions</td>\n",
              "      <td>TTSS</td>\n",
              "      <td>909</td>\n",
              "      <td>2</td>\n",
              "      <td>13</td>\n",
              "    </tr>\n",
              "    <tr>\n",
              "      <th>8</th>\n",
              "      <td>2021-10-01</td>\n",
              "      <td>14932</td>\n",
              "      <td>Other</td>\n",
              "      <td>1</td>\n",
              "      <td>0.004167</td>\n",
              "      <td>0</td>\n",
              "      <td>Income - DTC Debt</td>\n",
              "      <td>TTSS</td>\n",
              "      <td>1177</td>\n",
              "      <td>4</td>\n",
              "      <td>308</td>\n",
              "    </tr>\n",
              "    <tr>\n",
              "      <th>9</th>\n",
              "      <td>2021-08-23</td>\n",
              "      <td>14975</td>\n",
              "      <td>Other</td>\n",
              "      <td>1</td>\n",
              "      <td>0.004167</td>\n",
              "      <td>0</td>\n",
              "      <td>Domestic Trade Services</td>\n",
              "      <td>TTSS</td>\n",
              "      <td>1168</td>\n",
              "      <td>0</td>\n",
              "      <td>102</td>\n",
              "    </tr>\n",
              "  </tbody>\n",
              "</table>\n",
              "</div>\n",
              "      <button class=\"colab-df-convert\" onclick=\"convertToInteractive('df-b2de5201-3b04-4d86-bc1e-f09384b86fca')\"\n",
              "              title=\"Convert this dataframe to an interactive table.\"\n",
              "              style=\"display:none;\">\n",
              "        \n",
              "  <svg xmlns=\"http://www.w3.org/2000/svg\" height=\"24px\"viewBox=\"0 0 24 24\"\n",
              "       width=\"24px\">\n",
              "    <path d=\"M0 0h24v24H0V0z\" fill=\"none\"/>\n",
              "    <path d=\"M18.56 5.44l.94 2.06.94-2.06 2.06-.94-2.06-.94-.94-2.06-.94 2.06-2.06.94zm-11 1L8.5 8.5l.94-2.06 2.06-.94-2.06-.94L8.5 2.5l-.94 2.06-2.06.94zm10 10l.94 2.06.94-2.06 2.06-.94-2.06-.94-.94-2.06-.94 2.06-2.06.94z\"/><path d=\"M17.41 7.96l-1.37-1.37c-.4-.4-.92-.59-1.43-.59-.52 0-1.04.2-1.43.59L10.3 9.45l-7.72 7.72c-.78.78-.78 2.05 0 2.83L4 21.41c.39.39.9.59 1.41.59.51 0 1.02-.2 1.41-.59l7.78-7.78 2.81-2.81c.8-.78.8-2.07 0-2.86zM5.41 20L4 18.59l7.72-7.72 1.47 1.35L5.41 20z\"/>\n",
              "  </svg>\n",
              "      </button>\n",
              "      \n",
              "  <style>\n",
              "    .colab-df-container {\n",
              "      display:flex;\n",
              "      flex-wrap:wrap;\n",
              "      gap: 12px;\n",
              "    }\n",
              "\n",
              "    .colab-df-convert {\n",
              "      background-color: #E8F0FE;\n",
              "      border: none;\n",
              "      border-radius: 50%;\n",
              "      cursor: pointer;\n",
              "      display: none;\n",
              "      fill: #1967D2;\n",
              "      height: 32px;\n",
              "      padding: 0 0 0 0;\n",
              "      width: 32px;\n",
              "    }\n",
              "\n",
              "    .colab-df-convert:hover {\n",
              "      background-color: #E2EBFA;\n",
              "      box-shadow: 0px 1px 2px rgba(60, 64, 67, 0.3), 0px 1px 3px 1px rgba(60, 64, 67, 0.15);\n",
              "      fill: #174EA6;\n",
              "    }\n",
              "\n",
              "    [theme=dark] .colab-df-convert {\n",
              "      background-color: #3B4455;\n",
              "      fill: #D2E3FC;\n",
              "    }\n",
              "\n",
              "    [theme=dark] .colab-df-convert:hover {\n",
              "      background-color: #434B5C;\n",
              "      box-shadow: 0px 1px 3px 1px rgba(0, 0, 0, 0.15);\n",
              "      filter: drop-shadow(0px 1px 2px rgba(0, 0, 0, 0.3));\n",
              "      fill: #FFFFFF;\n",
              "    }\n",
              "  </style>\n",
              "\n",
              "      <script>\n",
              "        const buttonEl =\n",
              "          document.querySelector('#df-b2de5201-3b04-4d86-bc1e-f09384b86fca button.colab-df-convert');\n",
              "        buttonEl.style.display =\n",
              "          google.colab.kernel.accessAllowed ? 'block' : 'none';\n",
              "\n",
              "        async function convertToInteractive(key) {\n",
              "          const element = document.querySelector('#df-b2de5201-3b04-4d86-bc1e-f09384b86fca');\n",
              "          const dataTable =\n",
              "            await google.colab.kernel.invokeFunction('convertToInteractive',\n",
              "                                                     [key], {});\n",
              "          if (!dataTable) return;\n",
              "\n",
              "          const docLinkHtml = 'Like what you see? Visit the ' +\n",
              "            '<a target=\"_blank\" href=https://colab.research.google.com/notebooks/data_table.ipynb>data table notebook</a>'\n",
              "            + ' to learn more about interactive tables.';\n",
              "          element.innerHTML = '';\n",
              "          dataTable['output_type'] = 'display_data';\n",
              "          await google.colab.output.renderOutput(dataTable, element);\n",
              "          const docLink = document.createElement('div');\n",
              "          docLink.innerHTML = docLinkHtml;\n",
              "          element.appendChild(docLink);\n",
              "        }\n",
              "      </script>\n",
              "    </div>\n",
              "  </div>\n",
              "  "
            ]
          },
          "metadata": {},
          "execution_count": 8
        }
      ],
      "source": [
        "#Will drop columns with null value and don't have any significance \n",
        "df.drop([\"StartTimeInLocal\", \"TimeSpent\",\"Effective Date\",\"EndTimeInLocal\", \"FileOrUrlName\"], axis=1, inplace=True)\n",
        "df.head(10)"
      ]
    },
    {
      "cell_type": "code",
      "execution_count": 9,
      "metadata": {
        "id": "a-uh-F52FnUw",
        "colab": {
          "base_uri": "https://localhost:8080/"
        },
        "outputId": "8c8a87a6-869e-4013-f1a8-19a8b05ecd87"
      },
      "outputs": [
        {
          "output_type": "execute_result",
          "data": {
            "text/plain": [
              "0    7976668\n",
              "1    3549804\n",
              "Name: Description, dtype: int64"
            ]
          },
          "metadata": {},
          "execution_count": 9
        }
      ],
      "source": [
        "df[\"Description\"].value_counts()"
      ]
    },
    {
      "cell_type": "code",
      "execution_count": 10,
      "metadata": {
        "id": "jByYAuCNIZe0"
      },
      "outputs": [],
      "source": [
        "target_col = \"Description\""
      ]
    },
    {
      "cell_type": "code",
      "execution_count": 11,
      "metadata": {
        "id": "UjLIzBlAGHsA"
      },
      "outputs": [],
      "source": [
        "def handle_features(df, target_col):\n",
        "    #separating numerical and categorical columns\n",
        "    num_cols = df.select_dtypes(include=['int64', 'float64']).columns.tolist()\n",
        "    cat_cols = df.select_dtypes(include=['object']).columns.tolist()\n",
        "    cat_cols.remove('ActivityDate')  # remove 'ActivityDate' from list of categorical columns\n",
        "\n",
        "    #handling missing values in numerical columns\n",
        "    num_cols_with_na = [col for col in num_cols if df[col].isnull().sum() > 0]\n",
        "    for col in num_cols_with_na:\n",
        "        df[col].fillna(df[col].mean(), inplace=True)\n",
        "\n",
        "    #handling missing values in categorical columns\n",
        "    cat_cols_with_na = [col for col in cat_cols if df[col].isnull().sum() > 0]\n",
        "    for col in cat_cols_with_na:\n",
        "        df[col].fillna(df[col].mode()[0], inplace=True)\n",
        "\n",
        "    #transform 'ActivityDate' column into datetime\n",
        "    df['ActivityDate'] = pd.to_datetime(df['ActivityDate'])\n",
        "\n",
        "    #encoding categorical columns\n",
        "    le = LabelEncoder()\n",
        "    for col in cat_cols:\n",
        "        df[col] = le.fit_transform(df[col])\n",
        "\n",
        "    #setting date as the index\n",
        "    df.set_index('ActivityDate', inplace=True)\n",
        "\n",
        "    #separating target column and features\n",
        "    X = df.drop(target_col, axis=1)\n",
        "    y = df[target_col]\n",
        "\n",
        "    return X, y"
      ]
    },
    {
      "cell_type": "code",
      "execution_count": 12,
      "metadata": {
        "id": "hRiFFeYMJOdg",
        "colab": {
          "base_uri": "https://localhost:8080/"
        },
        "outputId": "9354b9a5-f77e-4209-f9d5-1bad01e63a83"
      },
      "outputs": [
        {
          "output_type": "stream",
          "name": "stdout",
          "text": [
            "                 ID  ActivityCategoryName  isCore  ActivityTime  \\\n",
            "ActivityDate                                                      \n",
            "2021-08-05    14906                     9       1      0.004167   \n",
            "2021-07-20    14906                     9       1      0.004167   \n",
            "2021-09-01    14975                     9       1      0.004167   \n",
            "2022-01-28    14932                     9       1      0.004167   \n",
            "2021-11-30    14975                     9       0      0.008333   \n",
            "\n",
            "              JobFamilyName  DepartmentName  TeamName  DoW  \\\n",
            "ActivityDate                                                 \n",
            "2021-08-05               48               9       909    3   \n",
            "2021-07-20               48               9       909    1   \n",
            "2021-09-01               50               9      1168    2   \n",
            "2022-01-28               87               9      1177    4   \n",
            "2021-11-30               50               9      1168    1   \n",
            "\n",
            "              Days to termination  \n",
            "ActivityDate                       \n",
            "2021-08-05                     12  \n",
            "2021-07-20                     28  \n",
            "2021-09-01                     93  \n",
            "2022-01-28                    189  \n",
            "2021-11-30                      3  \n",
            "ActivityDate\n",
            "2021-08-05    0\n",
            "2021-07-20    0\n",
            "2021-09-01    0\n",
            "2022-01-28    0\n",
            "2021-11-30    0\n",
            "Name: Description, dtype: int64\n"
          ]
        }
      ],
      "source": [
        "#Testing the output\n",
        "X, y = handle_features(df, target_col)\n",
        "print(X.head(5))\n",
        "print(y.head(5))"
      ]
    },
    {
      "cell_type": "code",
      "execution_count": 13,
      "metadata": {
        "id": "wk-SH423USL-",
        "colab": {
          "base_uri": "https://localhost:8080/"
        },
        "outputId": "a307ad6a-7445-4c48-97bd-d4925c3e30b5"
      },
      "outputs": [
        {
          "output_type": "execute_result",
          "data": {
            "text/plain": [
              "array([0, 1])"
            ]
          },
          "metadata": {},
          "execution_count": 13
        }
      ],
      "source": [
        "np.unique(y)"
      ]
    },
    {
      "cell_type": "code",
      "execution_count": 17,
      "metadata": {
        "id": "mJg78zwkJUR_"
      },
      "outputs": [],
      "source": [
        "def create_base_model(X, y, model_type):\n",
        "  #Splitting the dataset\n",
        "  X_train, X_test, y_train, y_test = train_test_split(X, y, test_size=0.2, random_state=42)\n",
        "\n",
        "   \n",
        "\n",
        "  if model_type == 'Random Forest':\n",
        "\n",
        "      #oversample the training data using RandomOverSampler\n",
        "      oversampler = RandomOverSampler()\n",
        "      X_train, y_train = oversampler.fit_resample(X_train, y_train)\n",
        "\n",
        "      # create random forest model and fit to training data\n",
        "      model = RandomForestClassifier(n_estimators=50, max_depth=5, min_samples_leaf=10) #Try to regularize to avoid overfitting\n",
        "      model.fit(X_train, y_train)\n",
        "\n",
        "      # predict on test data and evaluate performance\n",
        "      y_pred = model.predict(X_test)\n",
        "      accuracy = accuracy_score(y_test, y_pred)\n",
        "      roc_auc = roc_auc_score(y_test, y_pred)\n",
        "      print('Random Forest Model Performance:')\n",
        "      print('Accuracy:', accuracy)\n",
        "      print('ROC AUC:', roc_auc)\n",
        "\n",
        "  elif model_type == 'LSTM':\n",
        "      # reshape data for LSTM model\n",
        "      #X_train = np.reshape(np.array(X_train), (X_train.shape[0], 1, X_train.shape[1]))\n",
        "      #X_test = np.reshape(np.array(X_test), (X_test.shape[0], 1, X_test.shape[1]))\n",
        "      X_train = np.reshape(np.array(X_train), (X_train.shape[0], 1, X_train.shape[1]))\n",
        "      X_test = np.reshape(np.array(X_test), (X_test.shape[0], 1, X_test.shape[1]))\n",
        "\n",
        "      #calculate class frequencies\n",
        "      class_weights = {0: 1./(np.sum(y_train==0)), 1: 1./(np.sum(y_train==1))}\n",
        "\n",
        "      # create LSTM model with 5 layers\n",
        "      from tensorflow.keras import regularizers\n",
        "      model = Sequential()\n",
        "      model.add(LSTM(50, input_shape=(1, 10), return_sequences=True, kernel_regularizer=regularizers.l2(0.01)))\n",
        "      model.add(Dropout(0.4))\n",
        "      model.add(LSTM(50, return_sequences=True, kernel_regularizer=regularizers.l2(0.01)))\n",
        "      model.add(Dropout(0.4))\n",
        "      model.add(LSTM(50))\n",
        "      model.add(Dropout(0.4))\n",
        "      model.add(Dense(1, activation='sigmoid'))\n",
        "      model.compile(loss='binary_crossentropy', optimizer='adam', metrics=['accuracy'])\n",
        "\n",
        "      #create sample weights\n",
        "      sample_weights = np.array([class_weights[y] for y in y_train])\n",
        "      sample_weights = sample_weights / np.sum(sample_weights)\n",
        "\n",
        "      # fit model to training data\n",
        "      #model.fit(X_train, y_train, epochs=10, batch_size=32)\n",
        "      model.fit(X_train, y_train, epochs=10, batch_size=32, sample_weight=sample_weights)\n",
        "\n",
        "      # predict on test data and evaluate performance\n",
        "      y_pred = model.predict(X_test)\n",
        "      y_pred = [1 if y>=0.5 else 0 for y in y_pred]\n",
        "      accuracy = accuracy_score(y_test, y_pred)\n",
        "      roc_auc = roc_auc_score(y_test, y_pred)\n",
        "      print('LSTM Model Performance:')\n",
        "      print('Accuracy:', accuracy)\n",
        "      print('ROC AUC:', roc_auc) \n",
        "  else:\n",
        "      raise ValueError('Invalid model type')\n",
        "      \n",
        "  return model, accuracy, roc_auc#, y_test, y_pred"
      ]
    },
    {
      "cell_type": "code",
      "execution_count": 15,
      "metadata": {
        "id": "bygGq7r1SPlB",
        "colab": {
          "base_uri": "https://localhost:8080/"
        },
        "outputId": "ea85445d-f242-4449-f514-7e2241747152"
      },
      "outputs": [
        {
          "output_type": "stream",
          "name": "stdout",
          "text": [
            "Random Forest Model Performance:\n",
            "Accuracy: 1.0\n",
            "ROC AUC: 1.0\n"
          ]
        }
      ],
      "source": [
        "#Testing the Random Forest Model\n",
        "model, accuracy, roc_auc = create_base_model(X, y, 'Random Forest')\n"
      ]
    },
    {
      "cell_type": "code",
      "execution_count": null,
      "metadata": {
        "id": "KAHrh8W3VP4g"
      },
      "outputs": [],
      "source": [
        "#Testing the LSTM\n",
        "model, accuracy, roc_auc = create_base_model(X, y, 'LSTM')\n"
      ]
    },
    {
      "cell_type": "code",
      "execution_count": null,
      "metadata": {
        "id": "z1Awn8_Fk4mh"
      },
      "outputs": [],
      "source": [
        "def plot_results(accuracy, roc_auc):\n",
        "\n",
        "  fig, ax = plt.subplots(1, 2, figsize=(12, 4))\n",
        "  ax[0].plot(accuracy, marker='o')\n",
        "  ax[0].set_xlabel('Model')\n",
        "  ax[0].set_ylabel('Accuracy')\n",
        "  ax[1].plot(roc_auc, marker='o')\n",
        "  ax[1].set_xlabel('Model')\n",
        "  ax[1].set_ylabel('ROC AUC')\n",
        "  plt.show()"
      ]
    },
    {
      "cell_type": "code",
      "execution_count": null,
      "metadata": {
        "id": "s_TBd5rCmrrH"
      },
      "outputs": [],
      "source": [
        "rf_model = create_base_model(X, y, 'Random Forest')\n",
        "lstm_model = create_base_model(X, y, 'LSTM')"
      ]
    },
    {
      "cell_type": "code",
      "execution_count": null,
      "metadata": {
        "id": "AG_2RfrdnL9E"
      },
      "outputs": [],
      "source": [
        "#plot results\n",
        "x = ['Random Forest', 'LSTM']\n",
        "plot_results(accuracy, roc_auc)\n",
        "fig, axs = plt.subplots(1, 2, figsize=(10, 5))\n",
        "axs[0].bar(x, accuracy)\n",
        "axs[0].set_title('Accuracy')\n",
        "axs[1].bar(x, roc_auc)\n",
        "axs[1].set_title('ROC AUC')\n",
        "plt.show()"
      ]
    },
    {
      "cell_type": "code",
      "execution_count": null,
      "metadata": {
        "id": "BebayX91toov"
      },
      "outputs": [],
      "source": [
        "def plot_roc_curve(y_test, y_pred):\n",
        "\n",
        "  fpr, tpr, thresholds = roc_curve(y_test, y_pred)\n",
        "  plt.plot(fpr, tpr)\n",
        "  plt.xlabel('False Positive Rate')\n",
        "  plt.ylabel('True Positive Rate')\n",
        "  plt.title('ROC Curve')\n",
        "  plt.show()\n",
        "plot_roc_curve(y_test, y_pred)"
      ]
    }
  ],
  "metadata": {
    "colab": {
      "provenance": []
    },
    "kernelspec": {
      "display_name": "Python 3",
      "name": "python3"
    },
    "language_info": {
      "name": "python"
    }
  },
  "nbformat": 4,
  "nbformat_minor": 0
}